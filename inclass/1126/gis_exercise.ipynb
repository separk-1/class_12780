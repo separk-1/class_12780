{
 "cells": [
  {
   "cell_type": "code",
   "execution_count": null,
   "id": "b59096c6",
   "metadata": {},
   "outputs": [],
   "source": [
    "import geopandas as gpd\n",
    "import pandas as pd\n",
    "import numpy as np\n",
    "import matplotlib.pyplot as plt\n",
    "from shapely.geometry import Point, LineString, Polygon\n",
    "from shapely.ops import transform, unary_union\n",
    "\n",
    "def max_distance_within_polygon(polygon, point):\n",
    "    \"\"\"\n",
    "    Find the maximum distance from a point to any location within a polygon.\n",
    "    \n",
    "    Args:\n",
    "        polygon: GeoSeries or Polygon geometry\n",
    "        point: Point geometry within the polygon\n",
    "        \n",
    "    Returns:\n",
    "        tuple: (maximum distance, Point at maximum distance)\n",
    "    \"\"\"\n",
    "    \n",
    "    # Get polygon boundary points\n",
    "    boundary = polygon.boundary\n",
    "    \n",
    "    # Create a dense set of points along the boundary\n",
    "    # Get equally spaced points along the boundary\n",
    "    distances = np.linspace(0, boundary.length, num=1000)\n",
    "    boundary_points = [boundary.interpolate(distance) for distance in distances]\n",
    "    \n",
    "    # Calculate distances to all boundary points\n",
    "    distances = [p.distance(point) for p in boundary_points]\n",
    "    max_dist = max(distances)\n",
    "    max_point = boundary_points[distances.index(max_dist)]\n",
    "    \n",
    "    return max_dist, max_point\n",
    "\n",
    "def calculate_distances(row):\n",
    "    max_dist, farthest_point = max_distance_within_polygon(row['geometry_voting_district'], row['geometry_voting_place'])\n",
    "    return pd.Series({'max_dist': max_dist})\n",
    "\n",
    "def plot_geometries(point = None, polygon = None,buffer=None):\n",
    "    \"\"\"\n",
    "    Plot a Shapely Point and Polygon on the same matplotlib figure\n",
    "    \n",
    "    Parameters:\n",
    "    point: shapely.geometry.Point\n",
    "    polygon: shapely.geometry.Polygon\n",
    "    \"\"\"\n",
    "    # Create figure and axis\n",
    "    fig, ax = plt.subplots(figsize=(10, 8))\n",
    "    \n",
    "    # Plot the polygon\n",
    "    if polygon is not None:\n",
    "        x, y = polygon.exterior.xy\n",
    "        ax.plot(x, y, 'b-', linewidth=2, label='Polygon')\n",
    "        ax.fill(x, y, alpha=0.3, fc='b')\n",
    "    \n",
    "    # Plot the point\n",
    "    if point is not None:\n",
    "        ax.plot(point.x, point.y, 'ro', markersize=10, label='Point')\n",
    "    \n",
    "    # Plot the buffer\n",
    "    if buffer is not None:\n",
    "        x, y = buffer.exterior.xy\n",
    "        ax.plot(x, y, 'b-', linewidth=2, label='Polygon')\n",
    "        ax.fill(x, y, alpha=0.3, fc='y')\n",
    "    \n",
    "    # Add labels and title\n",
    "    ax.set_xlabel('X Coordinate')\n",
    "    ax.set_ylabel('Y Coordinate')\n",
    "    ax.set_title('Voting District and Polling Place')\n",
    "    \n",
    "    \n",
    "    # Equal aspect ratio\n",
    "    ax.set_aspect('equal')\n",
    "    \n",
    "    # Add grid\n",
    "    ax.grid(True)\n",
    "    \n",
    "    return fig, ax\n"
   ]
  },
  {
   "cell_type": "markdown",
   "id": "a45bf9ad",
   "metadata": {},
   "source": [
    "### Import the Files"
   ]
  },
  {
   "cell_type": "code",
   "execution_count": null,
   "id": "56ad3c3b",
   "metadata": {},
   "outputs": [],
   "source": [
    "voting_bounds = gpd.read_file('voting_bounds.geojson')\n",
    "voting_places = gpd.read_file('polling_places.geojson')\n",
    "\n",
    "voting_bounds = voting_bounds.to_crs('EPSG:2272')\n",
    "voting_places = voting_places.to_crs('EPSG:2272')\n",
    "\n",
    "census_data = gpd.read_file('tl_2024_42_bg.zip')\n",
    "census_population = pd.read_csv('ACSDT5Y2022.B01003-Data.csv')\n",
    "census_data = pd.merge(census_data,census_population,left_on='GEOIDFQ',right_on='GEO_ID')\n",
    "census_data = census_data[census_data['COUNTYFP']=='003']\n",
    "census_data = census_data.to_crs('EPSG:2272')"
   ]
  },
  {
   "cell_type": "markdown",
   "id": "bd0185af",
   "metadata": {},
   "source": [
    "### Plot the data"
   ]
  },
  {
   "cell_type": "markdown",
   "id": "16e08d2e",
   "metadata": {},
   "source": [
    "### Step: Merge the two datasets"
   ]
  },
  {
   "cell_type": "code",
   "execution_count": null,
   "id": "1e9d6185",
   "metadata": {},
   "outputs": [],
   "source": [
    "# YOUR CODE HERE\n",
    "\n",
    "\n",
    "# Include this in arguments: suffixes=('_voting_district', '_voting_place')\n",
    "\n",
    "merged = "
   ]
  },
  {
   "cell_type": "markdown",
   "id": "fb7f97f8",
   "metadata": {},
   "source": [
    "### Plot district and polling place"
   ]
  },
  {
   "cell_type": "code",
   "execution_count": null,
   "id": "87c0b67e",
   "metadata": {},
   "outputs": [],
   "source": []
  },
  {
   "cell_type": "markdown",
   "id": "ff323230",
   "metadata": {},
   "source": [
    "### Step: Calculate the distances and sort"
   ]
  },
  {
   "cell_type": "code",
   "execution_count": null,
   "id": "2bd430c6",
   "metadata": {},
   "outputs": [],
   "source": [
    "# student step\n",
    "merged['max_dist'] = \n",
    "merged = "
   ]
  },
  {
   "cell_type": "markdown",
   "id": "62d49903",
   "metadata": {},
   "source": [
    "### Plot the farthest"
   ]
  },
  {
   "cell_type": "code",
   "execution_count": null,
   "id": "57c88ce2",
   "metadata": {},
   "outputs": [],
   "source": []
  },
  {
   "cell_type": "markdown",
   "id": "67f08db1",
   "metadata": {},
   "source": [
    "### Plot whole county"
   ]
  },
  {
   "cell_type": "code",
   "execution_count": null,
   "id": "09399014",
   "metadata": {},
   "outputs": [],
   "source": []
  },
  {
   "cell_type": "markdown",
   "id": "6eddeaf5",
   "metadata": {},
   "source": [
    "### Create some threshold for walking distance"
   ]
  },
  {
   "cell_type": "code",
   "execution_count": null,
   "id": "88af63cf",
   "metadata": {},
   "outputs": [],
   "source": [
    "#lets just get the portion of the geometries that are outside walking distance\n",
    "walking_time = 15 #minutes\n",
    "walking_speed = 3 #mph\n",
    "walking_distance = walking_speed*walking_time/60*5280 #feet (unit of crs)"
   ]
  },
  {
   "cell_type": "markdown",
   "id": "4090a4b7",
   "metadata": {},
   "source": [
    "### Step: Create a buffer from the points"
   ]
  },
  {
   "cell_type": "code",
   "execution_count": null,
   "id": "fde37617",
   "metadata": {},
   "outputs": [],
   "source": [
    "#student step\n",
    "merged['walking_radius'] = "
   ]
  },
  {
   "cell_type": "markdown",
   "id": "5940b3db",
   "metadata": {},
   "source": [
    "### Visualize results"
   ]
  },
  {
   "cell_type": "code",
   "execution_count": null,
   "id": "0515637f",
   "metadata": {},
   "outputs": [],
   "source": []
  },
  {
   "cell_type": "markdown",
   "id": "0ceb8504",
   "metadata": {},
   "source": [
    "### Step: Subtract the walking radius from the shapes"
   ]
  },
  {
   "cell_type": "code",
   "execution_count": null,
   "id": "91ef0aa4",
   "metadata": {},
   "outputs": [],
   "source": [
    "## YOUR CODE HERE\n",
    "merged['geometry_outside_walking'] = "
   ]
  },
  {
   "cell_type": "markdown",
   "id": "03dde336",
   "metadata": {},
   "source": [
    "### View results"
   ]
  },
  {
   "cell_type": "code",
   "execution_count": null,
   "id": "ffd47f89",
   "metadata": {},
   "outputs": [],
   "source": []
  },
  {
   "cell_type": "markdown",
   "id": "18a27437",
   "metadata": {},
   "source": [
    "### Census shapefiles and populations"
   ]
  },
  {
   "cell_type": "code",
   "execution_count": null,
   "id": "b897d5fe",
   "metadata": {},
   "outputs": [],
   "source": [
    "census_data.iloc[0]"
   ]
  },
  {
   "cell_type": "markdown",
   "id": "e493d23c",
   "metadata": {},
   "source": [
    "### Calculate area in sq mi and pop density"
   ]
  },
  {
   "cell_type": "code",
   "execution_count": null,
   "id": "843db705",
   "metadata": {},
   "outputs": [],
   "source": [
    "census_data['area_sqmi'] = census_data['ALAND']*(1/2589988.110336)\n",
    "census_data['pop'] = census_data['B01003_001E'].astype(int)\n",
    "census_data['mean_density'] = census_data['pop']/census_data['area_sqmi']"
   ]
  },
  {
   "cell_type": "markdown",
   "id": "889ef1b7",
   "metadata": {},
   "source": [
    "### Overlay the non-walking areas with the block groups (which have population)"
   ]
  },
  {
   "cell_type": "code",
   "execution_count": null,
   "id": "0f338fe5",
   "metadata": {},
   "outputs": [],
   "source": [
    "outside_walking = gpd.GeoDataFrame(geometry=merged['geometry_outside_walking'])\n",
    "\n",
    "# YOUR CODE HERE\n",
    "census_beyond_walking = "
   ]
  },
  {
   "cell_type": "markdown",
   "id": "5aa907f6",
   "metadata": {},
   "source": [
    "### Estimate the population of the remaining areas"
   ]
  },
  {
   "cell_type": "code",
   "execution_count": null,
   "id": "b1cc5930",
   "metadata": {},
   "outputs": [],
   "source": []
  },
  {
   "cell_type": "code",
   "execution_count": null,
   "id": "ce797737",
   "metadata": {},
   "outputs": [],
   "source": [
    "# print('County population: ',census_data['pop'].sum())\n",
    "# print('Population beyond walk distance: ',int(census_beyond_walking['outside_pop_est'].sum()))\n",
    "# print('Pct beyond walk distance:', int(census_beyond_walking['outside_pop_est'].sum())/census_data['pop'].sum()*100)"
   ]
  },
  {
   "cell_type": "code",
   "execution_count": null,
   "id": "53cef1d2",
   "metadata": {},
   "outputs": [],
   "source": []
  }
 ],
 "metadata": {
  "kernelspec": {
   "display_name": "Python 3 (ipykernel)",
   "language": "python",
   "name": "python3"
  },
  "language_info": {
   "codemirror_mode": {
    "name": "ipython",
    "version": 3
   },
   "file_extension": ".py",
   "mimetype": "text/x-python",
   "name": "python",
   "nbconvert_exporter": "python",
   "pygments_lexer": "ipython3",
   "version": "3.9.19"
  }
 },
 "nbformat": 4,
 "nbformat_minor": 5
}
