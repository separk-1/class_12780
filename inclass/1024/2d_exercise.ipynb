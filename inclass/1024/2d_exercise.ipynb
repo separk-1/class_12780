{
 "cells": [
  {
   "cell_type": "markdown",
   "id": "e2912171",
   "metadata": {},
   "source": [
    "# In Class Exercise Lecture 2\n",
    "Thursday October 24, 2024\n",
    "\n",
    "## Overview\n",
    "In this exercise, you will create and import data in the csv format and experiment with the speed of different ways to do matrix multiplication.\n",
    "\n",
    "## Step 1: Create CSVs\n",
    "In a text editor of your choice, create two seperate csv files to store the following two matrices:\n",
    "\n",
    "$$ \n",
    "A = \\begin{bmatrix}\n",
    "3 & 7 & 1 & 9 & 2 \\\\\n",
    "8 & 4 & 6 & 5 & 3 \\\\\n",
    "1 & 2 & 7 & 4 & 8 \\\\\n",
    "9 & 6 & 3 & 2 & 5 \\\\\n",
    "4 & 8 & 5 & 1 & 7 \\\\\n",
    "\\end{bmatrix}\n",
    "$$\n",
    "\n",
    "\n",
    "$$\n",
    "B = \\begin{bmatrix}\n",
    "5 & 2 & 9 & 1 & 8 \\\\\n",
    "7 & 3 & 4 & 6 & 0 \\\\\n",
    "2 & 8 & 1 & 7 & 9 \\\\\n",
    "6 & 0 & 5 & 3 & 4 \\\\\n",
    "1 & 9 & 8 & 2 & 7 \\\\\n",
    "\\end{bmatrix}\n",
    "$$\n",
    "\n",
    "You can store the data in any format you like. Providing names for the columns is not necessary.\n",
    "\n",
    "## Step 2: Import CSVs to list\n",
    "Using the `csv` package, import the two csv files you just created, and format the data into a list of lists, meaning that each element of the list is itself a list which contains the numbers in each row.\n",
    "\n",
    "```\n",
    "A = [[row 0], [row 1], ... , [row 4]]\n",
    "```"
   ]
  },
  {
   "cell_type": "code",
   "execution_count": 11,
   "id": "8630a3a1",
   "metadata": {},
   "outputs": [
    {
     "name": "stdout",
     "output_type": "stream",
     "text": [
      "[[3, 7, 1, 9, 2], [8, 4, 6, 5, 3], [1, 2, 7, 4, 8], [9, 6, 3, 2, 5], [4, 8, 5, 1, 7]]\n",
      "[[5, 2, 9, 1, 8], [7, 3, 4, 6, 0], [2, 8, 1, 7, 9], [6, 0, 5, 3, 4], [1, 9, 8, 2, 7]]\n"
     ]
    }
   ],
   "source": [
    "# Your code here\n",
    "import csv\n",
    "\n",
    "with open('A.csv', 'r') as file:\n",
    "    reader = csv.reader(file)\n",
    "    A = [[int(num) for num in row] for row in reader] \n",
    "\n",
    "print(A)\n",
    "\n",
    "with open('B.csv', 'r') as file:\n",
    "    reader = csv.reader(file)\n",
    "    B = [[int(num) for num in row] for row in reader] \n",
    "\n",
    "print(B)"
   ]
  },
  {
   "cell_type": "markdown",
   "id": "3a794e65",
   "metadata": {},
   "source": [
    "## Step 3: DIY Matrix Multiplication\n",
    "Write your own function to calculate $A*B$, using the formatted matrices created in step 2. Do not use `numpy` or any other packages. Recall that the formula for matrix multiplication:\n",
    "\n",
    "If $A$ is an m x n matrix, and $B$ is an n x p matrix, then $C=AB$ has dimension m x p\n",
    "$$ c_{ij} = \\sum_{k=1}^n a_{ik} b_{kj}$$\n",
    "for i = 1, ..., m and j = 1, ..., p\n",
    "\n",
    "https://en.wikipedia.org/wiki/Matrix_multiplication#Definitions"
   ]
  },
  {
   "cell_type": "code",
   "execution_count": 41,
   "id": "328f83fc",
   "metadata": {},
   "outputs": [
    {
     "name": "stdout",
     "output_type": "stream",
     "text": [
      "[[122, 53, 117, 83, 83], [113, 103, 143, 95, 159], [65, 136, 108, 90, 143], [110, 105, 158, 82, 142], [99, 135, 134, 104, 130]]\n"
     ]
    }
   ],
   "source": [
    "# Your code here\n",
    "\n",
    "def matrix_multiplication(A, B):\n",
    "    C = [[0 for i in range(5)]for j in range(5)]\n",
    "\n",
    "    for i in range(5):\n",
    "        for j in range(5):\n",
    "            for k in range(len(B)):\n",
    "                C[i][j] += int(A[i][k] * B[k][j])\n",
    "    return C\n",
    "\n",
    "C = matrix_multiplication(A, B)      \n",
    "print(C)\n",
    "    \n"
   ]
  },
  {
   "cell_type": "markdown",
   "id": "f4a2fb7f",
   "metadata": {},
   "source": [
    "## Step 4 : Import CSVs to numpy\n",
    "Using the `csv` package, import the two csv files you just created, and format the data into a `numpy` array"
   ]
  },
  {
   "cell_type": "code",
   "execution_count": 33,
   "id": "6cc4b44a",
   "metadata": {},
   "outputs": [
    {
     "name": "stdout",
     "output_type": "stream",
     "text": [
      "[[3 7 1 9 2]\n",
      " [8 4 6 5 3]\n",
      " [1 2 7 4 8]\n",
      " [9 6 3 2 5]\n",
      " [4 8 5 1 7]]\n",
      "[[5 2 9 1 8]\n",
      " [7 3 4 6 0]\n",
      " [2 8 1 7 9]\n",
      " [6 0 5 3 4]\n",
      " [1 9 8 2 7]]\n"
     ]
    }
   ],
   "source": [
    "# Your code here\n",
    "import numpy as np\n",
    "A = np.array(A)\n",
    "B = np.array(B)\n",
    "print(A)\n",
    "print(B)"
   ]
  },
  {
   "cell_type": "markdown",
   "id": "62d06007",
   "metadata": {},
   "source": [
    "## Step 5: Matrix Multiplication with numpy\n",
    "Compute $A*B$ using the function `numpy.matmul()`."
   ]
  },
  {
   "cell_type": "code",
   "execution_count": 42,
   "id": "3e2d2c5f",
   "metadata": {},
   "outputs": [
    {
     "data": {
      "text/plain": [
       "array([[122,  53, 117,  83,  83],\n",
       "       [113, 103, 143,  95, 159],\n",
       "       [ 65, 136, 108,  90, 143],\n",
       "       [110, 105, 158,  82, 142],\n",
       "       [ 99, 135, 134, 104, 130]])"
      ]
     },
     "execution_count": 42,
     "metadata": {},
     "output_type": "execute_result"
    }
   ],
   "source": [
    "# Your code here\n",
    "def np_matmul(A, B):\n",
    "    return np.matmul(A, B)\n",
    "\n",
    "np_matmul(A,B)"
   ]
  },
  {
   "cell_type": "markdown",
   "id": "ada13303",
   "metadata": {},
   "source": [
    "## Step 6: Compare Speed of Both Methods\n",
    "Use the `average_time` function provided below to measure the speed of `numpy.matmul()` and your own method. Ensure `number` $\\geq 1000$"
   ]
  },
  {
   "cell_type": "code",
   "execution_count": 37,
   "id": "e1933eac",
   "metadata": {},
   "outputs": [
    {
     "name": "stdout",
     "output_type": "stream",
     "text": [
      "Average execution time: 0.000000 seconds\n"
     ]
    }
   ],
   "source": [
    "import timeit\n",
    "\n",
    "def average_time(func, *args, number=1000):\n",
    "    \"\"\"\n",
    "    This function measures the average time it takes to execute the provided function.\n",
    "    \n",
    "    Parameters:\n",
    "    - func: The function to time.\n",
    "    - args: The arguments to pass to the function.\n",
    "    - number: How many times to run the function (default is 1000).\n",
    "    \n",
    "    Returns:\n",
    "    - Average time taken to run the function.\n",
    "    \"\"\"\n",
    "    # Use timeit with a lambda to pass the function and arguments\n",
    "    execution_time = timeit.timeit(lambda: func(*args), number=number)\n",
    "    \n",
    "    # Return the average time taken\n",
    "    return execution_time / number\n",
    "\n",
    "\n",
    "\n",
    "###### Example usage of average_time function\n",
    "def example_function(x, y):\n",
    "    return x + y\n",
    "\n",
    "# Measure the average time for 1000 runs\n",
    "avg_time = average_time(example_function, 10, 20, number=1000)\n",
    "print(f\"Average execution time: {avg_time:.6f} seconds\")"
   ]
  },
  {
   "cell_type": "code",
   "execution_count": 47,
   "id": "3e054165",
   "metadata": {},
   "outputs": [
    {
     "name": "stdout",
     "output_type": "stream",
     "text": [
      "Average execution time (own method): 0.000076 seconds\n",
      "Average execution time (numpy method): 0.000001 seconds\n"
     ]
    }
   ],
   "source": [
    "# Your code here\n",
    "avg_time_own = average_time(matrix_multiplication, A, B, number=1000)\n",
    "print(f\"Average execution time (own method): {avg_time_own:.6f} seconds\")\n",
    "\n",
    "avg_time_np = average_time(np_matmul, A, B, number=1000)\n",
    "print(f\"Average execution time (numpy method): {avg_time_np:.6f} seconds\")"
   ]
  },
  {
   "cell_type": "markdown",
   "id": "7176d1e3",
   "metadata": {},
   "source": [
    "## Step 7: Create a JSON with the results\n",
    "Save the results of this test to a JSON file with the following structure:\n",
    "\n",
    "```\n",
    "{\n",
    "\t\"numpy_multiply\": execution time,\n",
    "    \"my_multiply\": execution time\n",
    "}\n",
    "```\n",
    "To create the JSON, make a dictionary with the correct structure, and then run the block below to save it."
   ]
  },
  {
   "cell_type": "code",
   "execution_count": 48,
   "id": "793e9ad9",
   "metadata": {},
   "outputs": [],
   "source": [
    "import json\n",
    "\n",
    "# Create the dictionary with execution times\n",
    "execution_times = {\"numpy_multiply\": avg_time_np, \"my_multiply\": avg_time_own}\n",
    "\n",
    "# Save the dictionary to a JSON file\n",
    "with open('execution_times.json', 'w') as json_file:\n",
    "    json.dump(execution_times, json_file)"
   ]
  },
  {
   "cell_type": "markdown",
   "id": "acf5437c",
   "metadata": {},
   "source": [
    "## Step 8: Submit JSON to Canvas\n",
    "Upload `execution_times.json` to the in class exercise assignment on Canvas"
   ]
  }
 ],
 "metadata": {
  "kernelspec": {
   "display_name": "Python 3 (ipykernel)",
   "language": "python",
   "name": "python3"
  },
  "language_info": {
   "codemirror_mode": {
    "name": "ipython",
    "version": 3
   },
   "file_extension": ".py",
   "mimetype": "text/x-python",
   "name": "python",
   "nbconvert_exporter": "python",
   "pygments_lexer": "ipython3",
   "version": "3.10.0"
  }
 },
 "nbformat": 4,
 "nbformat_minor": 5
}
